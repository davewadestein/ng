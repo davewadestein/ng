{
 "cells": [
  {
   "cell_type": "markdown",
   "metadata": {
    "slideshow": {
     "slide_type": "slide"
    }
   },
   "source": [
    "# Meditations on \"The Zen of Python\"\n",
    "* some material borrowed from [here](https://inventwithpython.com/blog/2018/08/17/the-zen-of-python-explained/)\n",
    "* and [here](https://miguelgfierro.com/blog/2018/python-pro-tips-understanding-explicit-is-better-than-implicit/)\n",
    "* and [here](https://eng.libretexts.org/Bookshelves/Computer_Science/Book%3A_Making_Games_with_Python_and_Pygame_(Sweigart)/06%3A_Simulate/6.21%3A_Explicit_is_Better_Than_Implicit)"
   ]
  },
  {
   "cell_type": "markdown",
   "metadata": {
    "slideshow": {
     "slide_type": "slide"
    }
   },
   "source": [
    "# The Zen of Python"
   ]
  },
  {
   "cell_type": "code",
   "execution_count": null,
   "metadata": {
    "slideshow": {
     "slide_type": "fragment"
    }
   },
   "outputs": [],
   "source": [
    "import this"
   ]
  },
  {
   "cell_type": "markdown",
   "metadata": {
    "slideshow": {
     "slide_type": "slide"
    }
   },
   "source": [
    "# Explicit is Better than Implicit"
   ]
  },
  {
   "cell_type": "markdown",
   "metadata": {
    "slideshow": {
     "slide_type": "fragment"
    }
   },
   "source": [
    "## implicit\n",
    "<pre><b>\n",
    "from some_module import thing\n",
    "...\n",
    "thing(...)\n",
    "</b></pre>"
   ]
  },
  {
   "cell_type": "markdown",
   "metadata": {},
   "source": [
    "## explicit\n",
    "<pre><b>\n",
    "import some_module\n",
    "...\n",
    "some_module.thing(...)\n",
    "</b></pre>"
   ]
  },
  {
   "cell_type": "code",
   "execution_count": null,
   "metadata": {
    "slideshow": {
     "slide_type": "subslide"
    }
   },
   "outputs": [],
   "source": [
    "# implicit\n",
    "def read(filename):\n",
    "    name, ext = filename.split('.')\n",
    "    if ext == 'csv':\n",
    "        pass # code for reading csv\n",
    "    elif ext == 'json':\n",
    "        pass # code for reading json\n",
    "    else:\n",
    "        raise TypeError('Unknown file type')"
   ]
  },
  {
   "cell_type": "code",
   "execution_count": null,
   "metadata": {
    "slideshow": {
     "slide_type": "fragment"
    }
   },
   "outputs": [],
   "source": [
    "# explicit\n",
    "# (also separation of concerns)\n",
    "def read_csv(filename):\n",
    "    pass # code for reading a csv file\n",
    "\n",
    "def read_json(filename):\n",
    "    pass # code for reading a json file"
   ]
  },
  {
   "cell_type": "markdown",
   "metadata": {
    "slideshow": {
     "slide_type": "subslide"
    }
   },
   "source": [
    "* Suppose we have a function which is supposed to return an object if it can, but if it can't (e.g., some error), it returns __`None`__. The caller will of course check for a return value or __`None`__ to figure out what happened."
   ]
  },
  {
   "cell_type": "code",
   "execution_count": null,
   "metadata": {
    "slideshow": {
     "slide_type": "fragment"
    }
   },
   "outputs": [],
   "source": [
    "def somefunc():\n",
    "    if all is well:\n",
    "        return the_thing\n",
    "    # be explicit, even though this return, is not necesssary\n",
    "    return None"
   ]
  },
  {
   "cell_type": "markdown",
   "metadata": {
    "slideshow": {
     "slide_type": "slide"
    }
   },
   "source": [
    "## Simple is Better than Complex and..."
   ]
  },
  {
   "cell_type": "markdown",
   "metadata": {
    "slideshow": {
     "slide_type": "fragment"
    }
   },
   "source": [
    "## Complex is Better than Complicated"
   ]
  },
  {
   "cell_type": "markdown",
   "metadata": {
    "slideshow": {
     "slide_type": "fragment"
    }
   },
   "source": [
    "* these aphorisms remind us–anything can be built using simple or complex techniques\n",
    " * for a simple problem–e.g., building a birdhouse–a simple solution is better, whereas...\n",
    " * ...building a diesel train engine is a complex problem that requires complex techniques"
   ]
  },
  {
   "cell_type": "markdown",
   "metadata": {
    "slideshow": {
     "slide_type": "subslide"
    }
   },
   "source": [
    "* even if you could make a diesel engine using birdhouse techniques, you'd likely  end up with a complicated, Rube Goldberg arrangement of birdhouse parts\n",
    "* prefer simplicity to complexity...\n",
    " * but know the limits of simplicity"
   ]
  },
  {
   "cell_type": "markdown",
   "metadata": {
    "slideshow": {
     "slide_type": "fragment"
    }
   },
   "source": [
    "## \"Increasingly, people seem to misinterpret complexity as sophistication, which is baffling–the incomprehensible should cause suspicion rather than admiration.\"\n",
    "## –Niklaus Wirth"
   ]
  },
  {
   "cell_type": "markdown",
   "metadata": {
    "slideshow": {
     "slide_type": "slide"
    }
   },
   "source": [
    "# Readability Counts"
   ]
  },
  {
   "cell_type": "markdown",
   "metadata": {
    "slideshow": {
     "slide_type": "subslide"
    }
   },
   "source": [
    "### “Programs must be written for people to read, and only incidentally for machines to execute.” –Harold Abelson"
   ]
  },
  {
   "cell_type": "markdown",
   "metadata": {
    "slideshow": {
     "slide_type": "fragment"
    }
   },
   "source": [
    "### “Any fool can write code that a computer can understand. Good programmers write code that humans can understand. –Martin Fowler"
   ]
  },
  {
   "cell_type": "markdown",
   "metadata": {
    "slideshow": {
     "slide_type": "fragment"
    }
   },
   "source": [
    "### “Indeed, the ratio of time spent reading versus writing is well over 10 to 1. We are constantly reading old code as part of the effort to write new code. ...[Therefore,] making it easy to read makes it easier to write.” –Robert C. Martin\n"
   ]
  },
  {
   "cell_type": "markdown",
   "metadata": {
    "slideshow": {
     "slide_type": "slide"
    }
   },
   "source": [
    "# Ergo, Commenting is Important"
   ]
  },
  {
   "cell_type": "markdown",
   "metadata": {
    "slideshow": {
     "slide_type": "fragment"
    }
   },
   "source": [
    "## (I, for example, would prefer you write clear code rather than commenting it)"
   ]
  },
  {
   "cell_type": "markdown",
   "metadata": {
    "slideshow": {
     "slide_type": "subslide"
    }
   },
   "source": [
    "# Documenting vs. Commenting"
   ]
  },
  {
   "cell_type": "markdown",
   "metadata": {
    "slideshow": {
     "slide_type": "fragment"
    }
   },
   "source": [
    "# ...they are often conflated"
   ]
  },
  {
   "cell_type": "markdown",
   "metadata": {
    "slideshow": {
     "slide_type": "subslide"
    }
   },
   "source": [
    "# Documentation\n",
    "* helps users of the software understand how to use it, i.e., how to get done what they want to do"
   ]
  },
  {
   "cell_type": "markdown",
   "metadata": {
    "slideshow": {
     "slide_type": "fragment"
    }
   },
   "source": [
    "* \"user\" may be a customer interacting with a GUI, or your peer interfacing with your API"
   ]
  },
  {
   "cell_type": "markdown",
   "metadata": {
    "slideshow": {
     "slide_type": "subslide"
    }
   },
   "source": [
    "# Comments\n",
    "* are there to help the person maintaining the code understand it"
   ]
  },
  {
   "cell_type": "markdown",
   "metadata": {
    "slideshow": {
     "slide_type": "fragment"
    }
   },
   "source": [
    "* e.g., why did you do it that way and not some other way?"
   ]
  },
  {
   "cell_type": "markdown",
   "metadata": {
    "slideshow": {
     "slide_type": "fragment"
    }
   },
   "source": [
    "* if there's something obscure in the code, why is it there? ...and what does it do?"
   ]
  },
  {
   "cell_type": "markdown",
   "metadata": {
    "slideshow": {
     "slide_type": "subslide"
    }
   },
   "source": [
    "## There's an old saying–\"Any code you wrote more than 6 months ago might as well have been written by someone else...\""
   ]
  },
  {
   "cell_type": "markdown",
   "metadata": {
    "slideshow": {
     "slide_type": "fragment"
    }
   },
   "source": [
    "## “Don’t comment bad code–rewrite it.”\n",
    "## –Brian W. Kernighan\n"
   ]
  },
  {
   "cell_type": "markdown",
   "metadata": {
    "slideshow": {
     "slide_type": "fragment"
    }
   },
   "source": [
    "## \"Documentation is the castor oil of programming. Managers think it is good for programmers and programmers hate it!\"\n",
    "## –Gerald Weinberg "
   ]
  },
  {
   "cell_type": "markdown",
   "metadata": {
    "slideshow": {
     "slide_type": "slide"
    }
   },
   "source": [
    "# [Docstrings](https://www.python.org/dev/peps/pep-0257/)\n",
    "* string literals that occur as the first statement in a module, function, class, or method definition\n",
    "* becomes the `.__doc__` special attribute of that object\n",
    "* the built-in __`help()`__ function spits out that attribute"
   ]
  },
  {
   "cell_type": "code",
   "execution_count": null,
   "metadata": {
    "slideshow": {
     "slide_type": "subslide"
    }
   },
   "outputs": [],
   "source": [
    "def remove_all(item, fromlist):\n",
    "    \"\"\"Remove ALL instances of item from fromlist.\"\"\"\n",
    "    while True:\n",
    "        try:\n",
    "            fromlist.remove(item)\n",
    "        except ValueError:\n",
    "            return None"
   ]
  },
  {
   "cell_type": "code",
   "execution_count": null,
   "metadata": {
    "slideshow": {
     "slide_type": "fragment"
    }
   },
   "outputs": [],
   "source": [
    "remove_all.__doc__"
   ]
  },
  {
   "cell_type": "code",
   "execution_count": null,
   "metadata": {
    "slideshow": {
     "slide_type": "fragment"
    }
   },
   "outputs": [],
   "source": [
    "help(remove_all)"
   ]
  },
  {
   "cell_type": "markdown",
   "metadata": {
    "slideshow": {
     "slide_type": "subslide"
    }
   },
   "source": [
    "* always use \"\"\"triple double quotes\"\"\" around docstrings\n",
    " * use r\"\"\" strings if they contain backslashes\n",
    " * for Unicode docstrings, use u\"\"\" strings\n",
    "* two forms: one-liners and multi-line docstrings"
   ]
  },
  {
   "cell_type": "markdown",
   "metadata": {
    "slideshow": {
     "slide_type": "subslide"
    }
   },
   "source": [
    "* one-liners\n",
    " * docstring is a phrase ending in a period\n",
    " * prescribes function/method's effect as a command (\"Do ...\", \"Return ...\"), not a description\n",
    "   * e.g. don't write \"Returns the blah ...\".\n",
    "\n"
   ]
  },
  {
   "cell_type": "code",
   "execution_count": null,
   "metadata": {
    "slideshow": {
     "slide_type": "fragment"
    }
   },
   "outputs": [],
   "source": [
    "def remove_all(item, fromlist):\n",
    "    \"\"\"Remove all instances of item from fromlist.\"\"\"\n",
    "    while True:\n",
    "        try:\n",
    "            fromlist.remove(item)\n",
    "        except ValueError:\n",
    "            return None"
   ]
  },
  {
   "cell_type": "markdown",
   "metadata": {
    "slideshow": {
     "slide_type": "subslide"
    }
   },
   "source": [
    "* multi-line docstrings\n",
    " * summary line just like a one-liner\n",
    " * blank line\n",
    " * more elaborate description"
   ]
  },
  {
   "cell_type": "code",
   "execution_count": null,
   "metadata": {
    "slideshow": {
     "slide_type": "fragment"
    }
   },
   "outputs": [],
   "source": [
    "help(sorted)"
   ]
  },
  {
   "cell_type": "code",
   "execution_count": null,
   "metadata": {},
   "outputs": [],
   "source": []
  }
 ],
 "metadata": {
  "celltoolbar": "Slideshow",
  "kernelspec": {
   "display_name": "Python 3.8.4 64-bit",
   "language": "python",
   "name": "python38464bitabe7c2d924894b07acbce95f4acf8ebe"
  },
  "language_info": {
   "codemirror_mode": {
    "name": "ipython",
    "version": 3
   },
   "file_extension": ".py",
   "mimetype": "text/x-python",
   "name": "python",
   "nbconvert_exporter": "python",
   "pygments_lexer": "ipython3",
   "version": "3.8.4"
  }
 },
 "nbformat": 4,
 "nbformat_minor": 2
}
