{
 "cells": [
  {
   "cell_type": "markdown",
   "metadata": {
    "collapsed": true,
    "slideshow": {
     "slide_type": "slide"
    }
   },
   "source": [
    "# Software Engineering in Python\n",
    "\n",
    "### Dave Wade-Stein  \n",
    "### dave@developintelligence.com"
   ]
  },
  {
   "cell_type": "markdown",
   "metadata": {
    "collapsed": true,
    "slideshow": {
     "slide_type": "subslide"
    }
   },
   "source": [
    "# Schedule\n",
    "* Schedule: Five sessions __`9-12 EDT`__\n",
    "* BREAK __`10:25-10:35 EDT`__"
   ]
  },
  {
   "cell_type": "markdown",
   "metadata": {
    "slideshow": {
     "slide_type": "subslide"
    }
   },
   "source": [
    "## About You and Me\n",
    "* What is your job title/what do you do?\n",
    "* What do you want to get out of the course?\n",
    "* What's your programming/Python background?\n",
    "* What TV show are you binge watching?\n",
    " * or...Fun Fact about Yourself"
   ]
  },
  {
   "attachments": {},
   "cell_type": "markdown",
   "metadata": {
    "slideshow": {
     "slide_type": "subslide"
    }
   },
   "source": [
    "# Materials folder: http://bit.ly/natlgrid\n",
    "# Day 1 Agenda\n",
    "* Introduction / Level Setting\n",
    "* Python Python review (as needed)\n",
    " * Mutable vs. Immutable Objects\n",
    " * \"Truthiness\"\n",
    " * Scoping rules\n",
    " * Slicing\n",
    " * List/Dict Comprehensions\n",
    " * Tuples\n",
    " * enumerate()\n",
    " * zip()\n",
    " * *args / **kwargs\n",
    " * := operator (Python 3.8)\n",
    " * modules / __main__\n",
    " * exception handling\n",
    "\n",
    "* Day 2 topics...\n",
    " * Documentation\n",
    " * Object-Oriented Python"
   ]
  },
  {
   "cell_type": "markdown",
   "metadata": {
    "slideshow": {
     "slide_type": "subslide"
    }
   },
   "source": [
    "# Setting Up Your Machine\n",
    "1. [Python 3](https://www.python.org) if you don't have it already\n",
    "1. the materials I teach from are Jupyter notebooks\n",
    " * they're a great teaching tool, but I'm well aware you won't use them as software engineers\n",
    "    * great for viewing/running/editing small snippets of code, separate from an IDE\n",
    " * you can view and interact with Jupyter notebooks in many ways–there are two easy options for you:\n",
    "    * Binder, which is a web-based tool for displaying Jupyter notebooks\n",
    "    * [Microsoft Visual Studio Code](https://code.visualstudio.com/) displays and runs Jupyter notebooks on your machine\n",
    "      * slightly less easy...__`pip install jupyter`__ on Windows\n",
    "      * or __`sudo pip3 install jupyter`__ on  Mac"
   ]
  },
  {
   "cell_type": "markdown",
   "metadata": {
    "slideshow": {
     "slide_type": "subslide"
    }
   },
   "source": [
    "# Strategies for Learning\n",
    "* zoom in / zoom out as needed\n",
    " * applies to Python and other topics as well\n",
    "* the \"Grandma Explanation\"™"
   ]
  },
  {
   "cell_type": "markdown",
   "metadata": {
    "slideshow": {
     "slide_type": "subslide"
    }
   },
   "source": [
    "\n",
    "# Software Engineering\n",
    "* [\"systematic application of engineering approaches to the development of software\"](https://en.wikipedia.org/wiki/Software_engineering)\n",
    "* __KISS__ = Keep It Simple, Stupid\n",
    "* __DRY__ = Don't Repeat Yourself\n",
    "* __YAGNI__ = You Aren't Going to Need It!\n",
    "* __SOLID__ = meta-acronym\n",
    " * __Single Responsibility Principle__ = every function, module, or class should have only a single responsibility\n",
    " * __Open/Closed Principle__ = software entities should be open for extension but closed for modification\n",
    " * __Liskov Substitution Principle__ = objects in a program should be replaceable with instances of their subtypes without altering the correctness of that program.\n",
    " * __Interface Segregation Principle__ = many client-specific interfaces are better than one general-purpose interface\n",
    " * __Dependency Inversion Principle__ one should depend upon abstractions, not concretions\n",
    "* reusability"
   ]
  },
  {
   "cell_type": "markdown",
   "metadata": {
    "slideshow": {
     "slide_type": "fragment"
    }
   },
   "source": [
    "# \"Before software can be reusable it first has to be usable.\"\n",
    "\n",
    "# –Ralph Johnson"
   ]
  },
  {
   "cell_type": "markdown",
   "metadata": {
    "slideshow": {
     "slide_type": "subslide"
    }
   },
   "source": [
    "# Python Syntax Review\n",
    "* we can spend as much or as little time on this as needed\n",
    "* our goal is to be sure we all have the fundamentals under our belts before proceeding...\n",
    "* exercises in this section are really based on need–if we spend time on a section, an exercise may be valuable, but if we don't, we can choose to skip"
   ]
  },
  {
   "cell_type": "markdown",
   "metadata": {
    "slideshow": {
     "slide_type": "subslide"
    }
   },
   "source": [
    "# \"Big Ideas\" to guide discovery...\n",
    "* everything in Python is an object\n",
    " * ...what's an object?"
   ]
  },
  {
   "cell_type": "markdown",
   "metadata": {
    "slideshow": {
     "slide_type": "fragment"
    }
   },
   "source": [
    "* primitive types (__`int`__, __`float`__, __`bool`__) vs. containers\n",
    " * ...what's a container?"
   ]
  },
  {
   "cell_type": "markdown",
   "metadata": {
    "slideshow": {
     "slide_type": "fragment"
    }
   },
   "source": [
    "* mutable vs. immutable objects"
   ]
  },
  {
   "cell_type": "markdown",
   "metadata": {
    "slideshow": {
     "slide_type": "fragment"
    }
   },
   "source": [
    "* functions vs. methods\n",
    " * e.g., __`sorted()`__ vs. __`.sort()`__"
   ]
  },
  {
   "cell_type": "markdown",
   "metadata": {
    "slideshow": {
     "slide_type": "fragment"
    }
   },
   "source": [
    "* \"Pythonic\""
   ]
  },
  {
   "cell_type": "markdown",
   "metadata": {
    "slideshow": {
     "slide_type": "fragment"
    }
   },
   "source": [
    "* do we need to say anything about Python 2 vs. Python 3?"
   ]
  },
  {
   "cell_type": "markdown",
   "metadata": {
    "slideshow": {
     "slide_type": "slide"
    }
   },
   "source": [
    "# “Inside every large program is a small program struggling to get out.” ―Tony Hoare"
   ]
  },
  {
   "cell_type": "markdown",
   "metadata": {
    "slideshow": {
     "slide_type": "slide"
    }
   },
   "source": [
    "# \"Truthiness\"\n",
    "* 0 and 0.0 are __`False`__, all other numeric values are __`True`__\n",
    "* empty containers __`False`__, non-empty containers __`True`__\n",
    " * __`if container:`__ is a Pythonic way of checking whether a container is non-empty\n",
    "* __`None`__ acts like __`False`__, but __`None != False`__"
   ]
  },
  {
   "cell_type": "code",
   "execution_count": null,
   "metadata": {
    "slideshow": {
     "slide_type": "fragment"
    }
   },
   "outputs": [],
   "source": [
    "if -4:\n",
    "    print('-4 is True')"
   ]
  },
  {
   "cell_type": "code",
   "execution_count": null,
   "metadata": {
    "slideshow": {
     "slide_type": "-"
    }
   },
   "outputs": [],
   "source": [
    "if not []:\n",
    "    print('empty list is False')"
   ]
  },
  {
   "cell_type": "code",
   "execution_count": null,
   "metadata": {
    "slideshow": {
     "slide_type": "-"
    }
   },
   "outputs": [],
   "source": [
    "if 'string':\n",
    "    print('Yep, True')"
   ]
  },
  {
   "cell_type": "code",
   "execution_count": null,
   "metadata": {
    "slideshow": {
     "slide_type": "-"
    }
   },
   "outputs": [],
   "source": [
    "def discard(somelist, item):\n",
    "    if item in somelist:\n",
    "        somelist.remove(item) # calling a method on the list\n",
    "    # What is returned?"
   ]
  },
  {
   "cell_type": "code",
   "execution_count": null,
   "metadata": {
    "slideshow": {
     "slide_type": "-"
    }
   },
   "outputs": [],
   "source": [
    "mylist = [1, 2, 3, 5]\n",
    "result = discard(mylist, 3)\n",
    "if not result:\n",
    "    print('None was returned')"
   ]
  },
  {
   "cell_type": "code",
   "execution_count": null,
   "metadata": {
    "slideshow": {
     "slide_type": "-"
    }
   },
   "outputs": [],
   "source": []
  },
  {
   "cell_type": "markdown",
   "metadata": {
    "slideshow": {
     "slide_type": "slide"
    }
   },
   "source": [
    "# Scoping Rules\n",
    "* Python is NOT block scoped"
   ]
  },
  {
   "cell_type": "code",
   "execution_count": null,
   "metadata": {
    "slideshow": {
     "slide_type": "fragment"
    }
   },
   "outputs": [],
   "source": [
    "if True:\n",
    "    new_variable = 'created inside a block'\n",
    "\n",
    "new_variable"
   ]
  },
  {
   "cell_type": "markdown",
   "metadata": {
    "slideshow": {
     "slide_type": "fragment"
    }
   },
   "source": [
    "* instead, Python is function scoped\n",
    "* variables created inside a function, persist until the function exits"
   ]
  },
  {
   "cell_type": "code",
   "execution_count": null,
   "metadata": {
    "slideshow": {
     "slide_type": "fragment"
    }
   },
   "outputs": [],
   "source": [
    "def f():\n",
    "    f_variable = 'created in function'\n",
    "    # intervening code...\n",
    "    print(f_variable)\n",
    "    \n",
    "f()\n",
    "print(f_variable)"
   ]
  },
  {
   "cell_type": "markdown",
   "metadata": {
    "slideshow": {
     "slide_type": "subslide"
    }
   },
   "source": [
    "# LEGB Rule\n",
    "* Python follows this rule when resolving an indentified...\n",
    " * __L__ocal\n",
    " * __E__nclosing\n",
    " * __G__lobal\n",
    " * __B__uiltin"
   ]
  },
  {
   "cell_type": "code",
   "execution_count": null,
   "metadata": {
    "slideshow": {
     "slide_type": "fragment"
    }
   },
   "outputs": [],
   "source": [
    "# Enclosing scope\n",
    "def f():\n",
    "    var_inside_f = 'defined inside f'\n",
    "    \n",
    "    def f_inside_f():\n",
    "        print(var_inside_f) # Python finds this in the enclosing scope\n",
    "        \n",
    "    f_inside_f()\n",
    "    \n",
    "f()"
   ]
  },
  {
   "cell_type": "code",
   "execution_count": null,
   "metadata": {
    "slideshow": {
     "slide_type": "fragment"
    }
   },
   "outputs": [],
   "source": [
    "# Global scope\n",
    "\n",
    "global_var = 'global var'\n",
    "\n",
    "def f():\n",
    "    print(global_var)\n",
    "    \n",
    "f()"
   ]
  },
  {
   "cell_type": "code",
   "execution_count": null,
   "metadata": {
    "slideshow": {
     "slide_type": "fragment"
    }
   },
   "outputs": [],
   "source": [
    "# built-in scope\n",
    "print(len('hello'))"
   ]
  },
  {
   "cell_type": "markdown",
   "metadata": {
    "slideshow": {
     "slide_type": "slide"
    }
   },
   "source": [
    "# Slicing\n",
    "* extract substring, but much more\n",
    " * more like _extract subbgroup of items from any ordered collection / container_\n",
    "* syntax is __`[start:stop:step]`__\n",
    " * each of those __`st...`__ are optional\n",
    " * at least one colon is required"
   ]
  },
  {
   "cell_type": "code",
   "execution_count": null,
   "metadata": {
    "slideshow": {
     "slide_type": "fragment"
    }
   },
   "outputs": [],
   "source": [
    "string  = 'abcdefghij'\n",
    "forward = '0123456789'"
   ]
  },
  {
   "cell_type": "code",
   "execution_count": null,
   "metadata": {
    "slideshow": {
     "slide_type": "-"
    }
   },
   "outputs": [],
   "source": [
    "string[:5] # Dijkstra"
   ]
  },
  {
   "cell_type": "code",
   "execution_count": null,
   "metadata": {
    "slideshow": {
     "slide_type": "-"
    }
   },
   "outputs": [],
   "source": [
    "string[5:]"
   ]
  },
  {
   "cell_type": "code",
   "execution_count": null,
   "metadata": {
    "slideshow": {
     "slide_type": "-"
    }
   },
   "outputs": [],
   "source": [
    "string[::2]"
   ]
  },
  {
   "cell_type": "code",
   "execution_count": null,
   "metadata": {
    "slideshow": {
     "slide_type": "-"
    }
   },
   "outputs": [],
   "source": [
    "string[1::2]"
   ]
  },
  {
   "cell_type": "code",
   "execution_count": null,
   "metadata": {
    "slideshow": {
     "slide_type": "-"
    }
   },
   "outputs": [],
   "source": [
    "string   = 'abcdefghij'\n",
    "backward = 'T987654321-'"
   ]
  },
  {
   "cell_type": "code",
   "execution_count": null,
   "metadata": {
    "slideshow": {
     "slide_type": "-"
    }
   },
   "outputs": [],
   "source": [
    "string[-3:]"
   ]
  },
  {
   "cell_type": "code",
   "execution_count": null,
   "metadata": {
    "slideshow": {
     "slide_type": "-"
    }
   },
   "outputs": [],
   "source": [
    "string[-2:-6:-2]"
   ]
  },
  {
   "cell_type": "code",
   "execution_count": null,
   "metadata": {
    "slideshow": {
     "slide_type": "-"
    }
   },
   "outputs": [],
   "source": [
    "string[::-1]"
   ]
  },
  {
   "cell_type": "markdown",
   "metadata": {
    "slideshow": {
     "slide_type": "subslide"
    }
   },
   "source": [
    "# Exercise: Slicing\n",
    "* given a number, e.g., __`12345`__, make it into a string with commas, i.e., __`\"12,345\"`__\n",
    "1. it's easier to do this from the end backwards, so first, convert to string and then reverse it\n",
    "2. now iterate through the string one chunk (3 chars) at a time and add a comma "
   ]
  },
  {
   "cell_type": "markdown",
   "metadata": {
    "slideshow": {
     "slide_type": "slide"
    }
   },
   "source": [
    "# List/Dict/Set Comprehensions\n",
    "* quick (and more importantly, Pythonic) way to build a list/dict/set\n",
    "* faster and (eventually) easier to read\n",
    "* if you start with an empty container and iterate over it, adding items, you likely want a _comprehension_"
   ]
  },
  {
   "cell_type": "code",
   "execution_count": null,
   "metadata": {
    "slideshow": {
     "slide_type": "fragment"
    }
   },
   "outputs": [],
   "source": [
    "squares = []\n",
    "for i in range(26):\n",
    "    squares.append(i * i)\n",
    "    \n",
    "print(squares)"
   ]
  },
  {
   "cell_type": "code",
   "execution_count": null,
   "metadata": {
    "slideshow": {
     "slide_type": "-"
    }
   },
   "outputs": [],
   "source": [
    "squares_lc = [i * i for i in range(26)]\n",
    "print(squares_lc)"
   ]
  },
  {
   "cell_type": "code",
   "execution_count": null,
   "metadata": {
    "slideshow": {
     "slide_type": "-"
    }
   },
   "outputs": [],
   "source": [
    "!ls -l /usr/share/dict/words"
   ]
  },
  {
   "cell_type": "code",
   "execution_count": null,
   "metadata": {
    "slideshow": {
     "slide_type": "-"
    }
   },
   "outputs": [],
   "source": [
    "squares_dict = { val: val * val for val in range(26) }\n",
    "squares_dict"
   ]
  },
  {
   "cell_type": "code",
   "execution_count": null,
   "metadata": {
    "slideshow": {
     "slide_type": "-"
    }
   },
   "outputs": [],
   "source": [
    "words = open('/usr/share/dict/words').read().split()\n",
    "len(words)"
   ]
  },
  {
   "cell_type": "code",
   "execution_count": null,
   "metadata": {
    "slideshow": {
     "slide_type": "-"
    }
   },
   "outputs": [],
   "source": [
    "# use a list comp to filter out words that contain all the vowels\n",
    "# and have no repeated letters\n",
    "vowels = set('aeiouy')\n",
    "words_no_dupes = [word for word in words\n",
    "                           if len(set(word)) == len(word) and\n",
    "                        len(vowels & set(word)) == len(vowels)]\n",
    "words_no_dupes"
   ]
  },
  {
   "cell_type": "code",
   "execution_count": null,
   "metadata": {
    "slideshow": {
     "slide_type": "-"
    }
   },
   "outputs": [],
   "source": [
    "from string import ascii_lowercase\n",
    "\n",
    "def pangram(sentence):\n",
    "    letters = { letter for letter in sentence.lower()\n",
    "                        if letter in ascii_lowercase }\n",
    "    return len(letters) == 26"
   ]
  },
  {
   "cell_type": "code",
   "execution_count": null,
   "metadata": {
    "slideshow": {
     "slide_type": "-"
    }
   },
   "outputs": [],
   "source": [
    "pangram('The five boxing wizards jump quickly.')"
   ]
  },
  {
   "cell_type": "code",
   "execution_count": null,
   "metadata": {},
   "outputs": [],
   "source": [
    "pangram(\"Then a cop quizzed Mick Jagger’s ex-wives briefly.\")"
   ]
  },
  {
   "cell_type": "markdown",
   "metadata": {
    "slideshow": {
     "slide_type": "slide"
    }
   },
   "source": [
    "# Tuples\n",
    "* immutable\n",
    "* if lists are like the columns of a spreadsheet/database...\n",
    " * tuples are like the rows\n",
    "* one tuple typically represents one person, company, country, mountain, etc."
   ]
  },
  {
   "cell_type": "code",
   "execution_count": null,
   "metadata": {
    "slideshow": {
     "slide_type": "fragment"
    }
   },
   "outputs": [],
   "source": [
    "legend = 'Lee', 'Bruce', 1940, 'San Francisco', 1973, \\\n",
    "                                                'Hong Kong' \n",
    "print(legend)"
   ]
  },
  {
   "cell_type": "code",
   "execution_count": null,
   "metadata": {},
   "outputs": [],
   "source": [
    "for field in legend:\n",
    "    print(field)"
   ]
  },
  {
   "cell_type": "markdown",
   "metadata": {
    "slideshow": {
     "slide_type": "fragment"
    }
   },
   "source": [
    "* even though tuples are immutable, they may contain mutable elements"
   ]
  },
  {
   "cell_type": "code",
   "execution_count": null,
   "metadata": {},
   "outputs": [],
   "source": [
    "person = 'Curie', 'Marie', 1867, []"
   ]
  },
  {
   "cell_type": "code",
   "execution_count": null,
   "metadata": {},
   "outputs": [],
   "source": [
    "person[-1].extend('physicist chemist'.split())"
   ]
  },
  {
   "cell_type": "code",
   "execution_count": null,
   "metadata": {},
   "outputs": [],
   "source": [
    "person"
   ]
  },
  {
   "cell_type": "code",
   "execution_count": null,
   "metadata": {},
   "outputs": [],
   "source": []
  },
  {
   "cell_type": "markdown",
   "metadata": {
    "slideshow": {
     "slide_type": "slide"
    }
   },
   "source": [
    "# __`enumerate()`__\n",
    "* built-in function\n",
    "* returns pairs ... (index, item) of an iterable (as a tuple)\n",
    "* suppose we have a list of items and want to print each item in the list, preceded by its index"
   ]
  },
  {
   "cell_type": "code",
   "execution_count": null,
   "metadata": {
    "slideshow": {
     "slide_type": "fragment"
    }
   },
   "outputs": [],
   "source": [
    "marques = 'Ferrari Lamborghini Maserati Alfa-Romeo Fiat'.split()"
   ]
  },
  {
   "cell_type": "code",
   "execution_count": null,
   "metadata": {},
   "outputs": [],
   "source": [
    "# not Pythonic\n",
    "i = 0\n",
    "while i < len(marques):\n",
    "    print(i, marques[i])\n",
    "    i += 1"
   ]
  },
  {
   "cell_type": "code",
   "execution_count": null,
   "metadata": {},
   "outputs": [],
   "source": [
    "# better, but also not Pythonic\n",
    "for i in range(len(marques)):\n",
    "    print(i, marques[i])"
   ]
  },
  {
   "cell_type": "code",
   "execution_count": null,
   "metadata": {},
   "outputs": [],
   "source": [
    "for index, manufacturer in enumerate(marques):\n",
    "    print(index, manufacturer)"
   ]
  },
  {
   "cell_type": "code",
   "execution_count": null,
   "metadata": {},
   "outputs": [],
   "source": [
    "for index, manufacturer in enumerate(marques, start=1):\n",
    "    print(f'#{index} in the list is {manufacturer}')"
   ]
  },
  {
   "cell_type": "code",
   "execution_count": null,
   "metadata": {},
   "outputs": [],
   "source": []
  },
  {
   "cell_type": "markdown",
   "metadata": {
    "slideshow": {
     "slide_type": "slide"
    }
   },
   "source": [
    "# __`zip()`__\n",
    "* built-in function to aggregate or \"pair up\" each item in an iterable with the corresponding item in one or more other iterables\n",
    "* returns a tuple of values \"peeled off\" from each iterable "
   ]
  },
  {
   "cell_type": "code",
   "execution_count": null,
   "metadata": {
    "slideshow": {
     "slide_type": "fragment"
    }
   },
   "outputs": [],
   "source": [
    "ceos = ['Elon Musk', 'Mary Barra', 'Oliver Zipse', \n",
    "    'Louis C. Camilleri', 'Linda Jackson*', 'Akio Toyoda']\n",
    "makes = 'Tesla GM BMW Ferrari Citroën Toyota'.split()\n",
    "greens = ['Model Y', 'Chevy Bolt', 'i3*', 'SF90 Stradale',\n",
    "              'C5 Aircross', 'RAV4 Prime']"
   ]
  },
  {
   "cell_type": "code",
   "execution_count": null,
   "metadata": {},
   "outputs": [],
   "source": [
    "for ceo, make, green in zip(ceos, makes, greens):\n",
    "    iswas = 'was' if ceo[-1] == '*' else 'is'\n",
    "    sd = 'd' if green[-1] == '*' else 's'\n",
    "    # I've split into two f-strings below so that the string\n",
    "    # doesn't fall off the end of the notebook cell...\n",
    "    print(f'''{ceo} {iswas} CEO of {make}\n",
    "    ...which manufacture{sd} the {green}''')"
   ]
  },
  {
   "cell_type": "code",
   "execution_count": null,
   "metadata": {},
   "outputs": [],
   "source": []
  },
  {
   "cell_type": "markdown",
   "metadata": {
    "slideshow": {
     "slide_type": "slide"
    }
   },
   "source": [
    "# Functions\n",
    "* if a function doesn’t call __`return`__ explicitly, the special value __`None`__ is returned\n"
   ]
  },
  {
   "cell_type": "code",
   "execution_count": null,
   "metadata": {
    "slideshow": {
     "slide_type": "fragment"
    }
   },
   "outputs": [],
   "source": [
    "def formatter(string):\n",
    "    print(len(string) * '=', string, len(string) * '=', sep='\\n')"
   ]
  },
  {
   "cell_type": "code",
   "execution_count": null,
   "metadata": {},
   "outputs": [],
   "source": [
    "formatter('Print this nicely!')"
   ]
  },
  {
   "cell_type": "code",
   "execution_count": null,
   "metadata": {},
   "outputs": [],
   "source": [
    "result = formatter('Print this too')\n",
    "print('I got back', result)"
   ]
  },
  {
   "cell_type": "markdown",
   "metadata": {
    "slideshow": {
     "slide_type": "subslide"
    }
   },
   "source": [
    "## Functions: keyword arguments\n",
    "* you may specify arguments by name, in any order\n",
    "* once you specify a keyword argument, all arguments following it must be keyword arguments"
   ]
  },
  {
   "cell_type": "code",
   "execution_count": null,
   "metadata": {
    "slideshow": {
     "slide_type": "fragment"
    }
   },
   "outputs": [],
   "source": [
    "def menu(wine, entree, dessert):\n",
    "    return { 'wine': wine, 'entree': entree,\n",
    "                            'dessert': dessert }"
   ]
  },
  {
   "cell_type": "code",
   "execution_count": null,
   "metadata": {},
   "outputs": [],
   "source": [
    "menu('chianti', 'tartuffo', 'polenta')"
   ]
  },
  {
   "cell_type": "code",
   "execution_count": null,
   "metadata": {},
   "outputs": [],
   "source": [
    "menu('chianti', dessert='tartufo', entree='polenta')"
   ]
  },
  {
   "cell_type": "code",
   "execution_count": null,
   "metadata": {},
   "outputs": [],
   "source": [
    "# once you start passing arguments by keyword, the rest must be passed by keyword\n",
    "menu('chianti', dessert='tartufo', 'polenta')"
   ]
  },
  {
   "cell_type": "markdown",
   "metadata": {
    "slideshow": {
     "slide_type": "subslide"
    }
   },
   "source": [
    "# Functions: default arguments"
   ]
  },
  {
   "cell_type": "code",
   "execution_count": null,
   "metadata": {
    "slideshow": {
     "slide_type": "fragment"
    }
   },
   "outputs": [],
   "source": [
    "def menu(wine, entree, dessert='tartufo'):\n",
    "    return { 'wine': wine, 'entree': entree, 'dessert': dessert }"
   ]
  },
  {
   "cell_type": "code",
   "execution_count": null,
   "metadata": {},
   "outputs": [],
   "source": [
    "menu('chardonnay', 'braised tofu')"
   ]
  },
  {
   "cell_type": "code",
   "execution_count": null,
   "metadata": {},
   "outputs": [],
   "source": [
    "menu('chardonnay', dessert='canoli', entree='fagioli')"
   ]
  },
  {
   "cell_type": "code",
   "execution_count": null,
   "metadata": {},
   "outputs": [],
   "source": []
  },
  {
   "cell_type": "markdown",
   "metadata": {
    "slideshow": {
     "slide_type": "subslide"
    }
   },
   "source": [
    "# Variable Positional Arguments (__`*args`__)\n",
    "* sometimes we want a function which takes a variable number of arguments (e.g., builtin __`print()`__ function)"
   ]
  },
  {
   "cell_type": "code",
   "execution_count": null,
   "metadata": {
    "slideshow": {
     "slide_type": "fragment"
    }
   },
   "outputs": [],
   "source": [
    "def func(x, y, z, *args):\n",
    "    print(x, y, z)\n",
    "    print('additional args:', args)\n",
    "    for arg in args: # \"for thing in container\"\n",
    "        print(arg)"
   ]
  },
  {
   "cell_type": "code",
   "execution_count": null,
   "metadata": {},
   "outputs": [],
   "source": [
    "func('blue', 'green', 'red', 1, 2, 3, 4)"
   ]
  },
  {
   "cell_type": "code",
   "execution_count": null,
   "metadata": {
    "slideshow": {
     "slide_type": "fragment"
    }
   },
   "outputs": [],
   "source": [
    "def func(*args):\n",
    "    for index, arg in enumerate(args):\n",
    "        print('arg', index, 'is', arg)"
   ]
  },
  {
   "cell_type": "code",
   "execution_count": null,
   "metadata": {},
   "outputs": [],
   "source": [
    "func(3, 4, 5)"
   ]
  },
  {
   "cell_type": "markdown",
   "metadata": {
    "slideshow": {
     "slide_type": "subslide"
    }
   },
   "source": [
    "# Lab: Variable Positional Arguments\n",
    "* write a function called __`product`__ which accepts a variable number of arguments and returns the product of all of its args. With no args, __`product()`__ should return 1    \n",
    "\n",
    "<pre><b>\n",
    ">>> product(3, 5)\n",
    "15\n",
    ">>> product(1, 2, 3)\n",
    "6\n",
    ">>> product(63, 12, 3, 0, 9)\n",
    "0\n",
    ">>> product()\n",
    "1\n",
    "</b></pre>"
   ]
  },
  {
   "cell_type": "code",
   "execution_count": null,
   "metadata": {},
   "outputs": [],
   "source": []
  },
  {
   "cell_type": "markdown",
   "metadata": {
    "slideshow": {
     "slide_type": "subslide"
    }
   },
   "source": [
    "## Variable Keyword Arguments (__`**kwargs`__)\n",
    "* what if a function needs a bunch of configuration options, having default values which typically aren't overridden?\n",
    "* one way to do this would be to have the function accept a __`dict`__ in which these value(s) can be specified\n",
    "* better way is to use variable keywords arguments"
   ]
  },
  {
   "cell_type": "code",
   "execution_count": null,
   "metadata": {
    "slideshow": {
     "slide_type": "fragment"
    }
   },
   "outputs": [],
   "source": [
    "def vka(**kwargs):\n",
    "    print(kwargs)"
   ]
  },
  {
   "cell_type": "code",
   "execution_count": null,
   "metadata": {},
   "outputs": [],
   "source": [
    "vka()"
   ]
  },
  {
   "cell_type": "code",
   "execution_count": null,
   "metadata": {
    "slideshow": {
     "slide_type": "fragment"
    }
   },
   "outputs": [],
   "source": [
    "def vka(**kwargs):\n",
    "    for key in kwargs:\n",
    "        print(key, '=>', kwargs[key])"
   ]
  },
  {
   "cell_type": "code",
   "execution_count": null,
   "metadata": {},
   "outputs": [],
   "source": [
    "vka(i=1, j=4, color='red')"
   ]
  },
  {
   "cell_type": "markdown",
   "metadata": {
    "slideshow": {
     "slide_type": "slide"
    }
   },
   "source": [
    "# Assigment Expressions (new in Python 3.8)\n",
    "* colloquially called the \"Walrus Operator\"\n",
    "* technically called [Assignment Expressions](https://www.python.org/dev/peps/pep-0572/)\n",
    "* allows an assignment to be used inside an expression\n",
    "* the current proposal \"would have allowed a modest but clear improvement in quite a few bits of code\" –Tim Peters"
   ]
  },
  {
   "cell_type": "markdown",
   "metadata": {
    "slideshow": {
     "slide_type": "fragment"
    }
   },
   "source": [
    "## Use case\n",
    "* Guido van Rossum found several examples where a programmer repeated a subexpression, slowing down the program, in order to save one line of code. Programmers wrote:\n",
    "\n",
    "<pre>\n",
    "<b>group = re.match(data).group(1) \\\n",
    "        if re.match(data) else None</b>\n",
    "</pre>\n",
    "\n",
    "instead of:\n",
    "\n",
    "<pre><b>\n",
    "match = re.match(data)\n",
    "group = match.group(1) if match else None\n",
    "</b></pre>\n",
    "\n",
    "Solution:\n",
    "\n",
    "<pre><b>\n",
    "group = match if (match := re.match(data)) \\\n",
    "              else None\n",
    "</b></pre>\n",
    "\n"
   ]
  },
  {
   "cell_type": "code",
   "execution_count": null,
   "metadata": {
    "slideshow": {
     "slide_type": "fragment"
    }
   },
   "outputs": [],
   "source": [
    "# quite useful in loops interacting with the user...\n",
    "while (cmd := input('Enter command: ')) != 'quit':\n",
    "    print('do', cmd)"
   ]
  },
  {
   "cell_type": "code",
   "execution_count": null,
   "metadata": {},
   "outputs": [],
   "source": [
    "import sys\n",
    "sys.version"
   ]
  },
  {
   "cell_type": "markdown",
   "metadata": {
    "slideshow": {
     "slide_type": "slide"
    }
   },
   "source": [
    "# Modules\n",
    "* modules are files of Python code which \"expose\":\n",
    " * variables\n",
    " * functions\n",
    " * classes\n",
    "* two forms of importing a module:\n",
    " * __`import foo`__\n",
    " * __`from foo import bar`__\n",
    "   * __`from foo import *`__ (deprecated)\n",
    "* imported stuff can be renamed\n",
    " * __`import numpy as np`__\n",
    " * __`from foo import bar as foo_bar`__\n",
    "* imported module is run by the Python interpreter so the objects become part of your namespace"
   ]
  },
  {
   "cell_type": "code",
   "execution_count": null,
   "metadata": {
    "slideshow": {
     "slide_type": "fragment"
    }
   },
   "outputs": [],
   "source": [
    "# %load example.py\n",
    "data = \"example data\"\n",
    "\n",
    "def foo():\n",
    "    return 45\n",
    "          \n"
   ]
  },
  {
   "cell_type": "code",
   "execution_count": null,
   "metadata": {},
   "outputs": [],
   "source": [
    "import math\n",
    "from math import sin, cos"
   ]
  },
  {
   "cell_type": "code",
   "execution_count": null,
   "metadata": {},
   "outputs": [],
   "source": [
    "import example"
   ]
  },
  {
   "cell_type": "code",
   "execution_count": null,
   "metadata": {},
   "outputs": [],
   "source": [
    "dir(example)"
   ]
  },
  {
   "cell_type": "markdown",
   "metadata": {
    "slideshow": {
     "slide_type": "subslide"
    }
   },
   "source": [
    "# `__name__ == '__main__'`\n",
    "* when a module is imported, Python sets the built-in variable `__name__` to the name of the module\n",
    "* if instead the module is _run_, then `__name__` is set to the special value `__main__`"
   ]
  },
  {
   "cell_type": "code",
   "execution_count": null,
   "metadata": {
    "slideshow": {
     "slide_type": "fragment"
    }
   },
   "outputs": [],
   "source": [
    "# %load mymodule.py\n",
    "# Simple example of a Python module that exports functions\n",
    "# to be used by other modules.\n",
    "# \n",
    "# A possible use case is to package up a bunch of functions\n",
    "# which are often used by your scripts.\n",
    "#\n",
    "# Inside your scripts you presumably have written\n",
    "#\n",
    "# import module\n",
    "#\n",
    "# or\n",
    "#\n",
    "# from module import func\n",
    "\n",
    "def func(x):\n",
    "    return x * 2\n",
    "\n",
    "# since this code is at the top level (i.e., outside any function),\n",
    "# it will be run\n",
    "print(f'The name of this module (i.e., __name__) is \"{__name__}\"')\n",
    "\n",
    "# What follows is a straightforward testing capability for this\n",
    "# function (or functions). We notice that __name__ is set to\n",
    "# __main__ when we *run* this script, but it's set to the name\n",
    "# of this module when we import this module.\n",
    "\n",
    "if __name__ == '__main__':\n",
    "    # We ran this script, rather than importing it\n",
    "    print('Running unit tests...')\n",
    "    assert func(2) == 4\n",
    "    assert func('two') == 'twotwo'\n",
    "    print('All tests passed!')"
   ]
  },
  {
   "cell_type": "code",
   "execution_count": null,
   "metadata": {},
   "outputs": [],
   "source": [
    "import mymodule"
   ]
  },
  {
   "cell_type": "code",
   "execution_count": null,
   "metadata": {},
   "outputs": [],
   "source": [
    "%run mymodule.py"
   ]
  },
  {
   "cell_type": "code",
   "execution_count": null,
   "metadata": {},
   "outputs": [],
   "source": []
  },
  {
   "cell_type": "markdown",
   "metadata": {
    "slideshow": {
     "slide_type": "slide"
    }
   },
   "source": [
    "# Packages\n",
    "* a collection of Python modules\n",
    "* a directory of Python modules containing an additional `__init__.py` file, to distinguish a package from a directory that just happens to contain a bunch of Python scripts\n",
    "* packages can be nested to any depth, if the corresponding directories contain their own `__init__.py` file\n",
    "* only top level is imported by default; lower level modules must be explicity imported (or may be imported in the `__init__.py` file)"
   ]
  },
  {
   "cell_type": "code",
   "execution_count": null,
   "metadata": {
    "slideshow": {
     "slide_type": "fragment"
    }
   },
   "outputs": [],
   "source": [
    "import xml"
   ]
  },
  {
   "cell_type": "code",
   "execution_count": null,
   "metadata": {},
   "outputs": [],
   "source": [
    "type(xml)"
   ]
  },
  {
   "cell_type": "code",
   "execution_count": null,
   "metadata": {},
   "outputs": [],
   "source": []
  },
  {
   "cell_type": "code",
   "execution_count": null,
   "metadata": {},
   "outputs": [],
   "source": [
    "xml.__file__"
   ]
  },
  {
   "cell_type": "code",
   "execution_count": null,
   "metadata": {},
   "outputs": [],
   "source": [
    "!ls '/Library/Frameworks/Python.framework/Versions/3.7/lib/python3.7/xml/'"
   ]
  },
  {
   "cell_type": "code",
   "execution_count": null,
   "metadata": {},
   "outputs": [],
   "source": [
    "from xml import etree as xml_etree"
   ]
  },
  {
   "cell_type": "code",
   "execution_count": null,
   "metadata": {},
   "outputs": [],
   "source": [
    "type(xml_etree)"
   ]
  },
  {
   "cell_type": "code",
   "execution_count": null,
   "metadata": {},
   "outputs": [],
   "source": [
    "xml_etree.__file__"
   ]
  },
  {
   "cell_type": "code",
   "execution_count": null,
   "metadata": {},
   "outputs": [],
   "source": []
  },
  {
   "cell_type": "markdown",
   "metadata": {
    "slideshow": {
     "slide_type": "slide"
    }
   },
   "source": [
    "# Exceptions\n",
    "* errors detected during execution are called _exceptions_\n",
    "* exceptions are \"thrown\" and either \"caught\" by an exception handler, or propagated upward\n",
    "* \"…exceptions create hidden control-flow paths that are difficult for programmers to reason about\" –Weimer & Necula, \"Exceptional Situations and Program Reliability\"\n",
    "* ...but they are also Pythonic"
   ]
  },
  {
   "cell_type": "code",
   "execution_count": null,
   "metadata": {
    "slideshow": {
     "slide_type": "fragment"
    }
   },
   "outputs": [],
   "source": [
    "mylist = 'this that other'.split()\n",
    "mylist[5]"
   ]
  },
  {
   "cell_type": "code",
   "execution_count": null,
   "metadata": {},
   "outputs": [],
   "source": [
    "int('zero')"
   ]
  },
  {
   "cell_type": "markdown",
   "metadata": {
    "slideshow": {
     "slide_type": "subslide"
    }
   },
   "source": [
    "![alt-text](images/exceptions.png \"exceptions\")"
   ]
  },
  {
   "cell_type": "markdown",
   "metadata": {
    "slideshow": {
     "slide_type": "subslide"
    }
   },
   "source": [
    "## Exceptions: __`try/except`__\n",
    "* __`try`__ block wraps code which may throw an exception, and __`except`__ block catches exception"
   ]
  },
  {
   "cell_type": "code",
   "execution_count": null,
   "metadata": {
    "slideshow": {
     "slide_type": "-"
    }
   },
   "outputs": [],
   "source": [
    "try:\n",
    "    mylist[5] # could throw an IndexError\n",
    "except:\n",
    "    print('no element at offset 5')\n",
    "    \n",
    "print('rest of program')"
   ]
  },
  {
   "cell_type": "markdown",
   "metadata": {
    "slideshow": {
     "slide_type": "fragment"
    }
   },
   "source": [
    "#### • problem? above example catches ALL exceptions, not just __`IndexError`__ we are expecting"
   ]
  },
  {
   "cell_type": "markdown",
   "metadata": {
    "slideshow": {
     "slide_type": "fragment"
    }
   },
   "source": [
    "#### • best practice is to catch expected exceptions and let unexpected ones through, so as to avoid hidden errors"
   ]
  },
  {
   "cell_type": "code",
   "execution_count": null,
   "metadata": {
    "slideshow": {
     "slide_type": "subslide"
    }
   },
   "outputs": [],
   "source": [
    "try:\n",
    "    print(mylist[1]) # could throw IndexError\n",
    "    int('a') # suppose I didn't consider that this could throw an exception\n",
    "except IndexError:\n",
    "    print('Bad index! Try again!')\n",
    "except Exception as uhoh:\n",
    "    print('Some other exception:', uhoh, type(uhoh))"
   ]
  },
  {
   "cell_type": "code",
   "execution_count": null,
   "metadata": {
    "slideshow": {
     "slide_type": "fragment"
    }
   },
   "outputs": [],
   "source": [
    "short_list = ['zero', 'one', 'two']\n",
    "\n",
    "while True:\n",
    "    value = input('Enter numeric index [q to quit]? ')\n",
    "    if value == 'q':\n",
    "        break\n",
    "    try:\n",
    "        position = int(value)\n",
    "        print(short_list[position])\n",
    "        3 / 0\n",
    "    except IndexError:\n",
    "        print('Bad index:', value)\n",
    "    except ValueError:\n",
    "        print('Follow directions!')\n",
    "    except Exception as other:\n",
    "        print('Something else broke:', other, type(other))"
   ]
  },
  {
   "cell_type": "markdown",
   "metadata": {
    "slideshow": {
     "slide_type": "subslide"
    }
   },
   "source": [
    "# Some pseudocode to consider..."
   ]
  },
  {
   "cell_type": "code",
   "execution_count": null,
   "metadata": {
    "slideshow": {
     "slide_type": "-"
    }
   },
   "outputs": [],
   "source": [
    "# pseudocode\n",
    "try:\n",
    "    dangerous_call() # presumably could throw an exception\n",
    "    after_call() # I know this cannot throw an exception\n",
    "except OS_Error:\n",
    "    log('...')"
   ]
  },
  {
   "cell_type": "markdown",
   "metadata": {
    "slideshow": {
     "slide_type": "-"
    }
   },
   "source": [
    "### __`after_call()`__ will only run if __`dangerous_call()`__ doesn't throw an exception…So what's the problem?"
   ]
  },
  {
   "cell_type": "code",
   "execution_count": null,
   "metadata": {
    "slideshow": {
     "slide_type": "subslide"
    }
   },
   "outputs": [],
   "source": [
    "# pseudocode\n",
    "try:\n",
    "    handle = dangerous_call() # \"could throw an exception\" \n",
    "    read_database(handle) # this could throw ValueEroor\n",
    "except OS_Error:\n",
    "    log('...') # your way of handling the exception\n",
    "except ValueError:\n",
    "    print('...')\n",
    "else: \n",
    "    # successful execution of lines 3 and 4\n",
    "    "
   ]
  },
  {
   "cell_type": "markdown",
   "metadata": {
    "slideshow": {
     "slide_type": "fragment"
    }
   },
   "source": [
    "#### • now it’s clear that try block is guarding against possible errors in __`dangerous_call()`__, not  in __`after_call()`__"
   ]
  },
  {
   "cell_type": "markdown",
   "metadata": {
    "slideshow": {
     "slide_type": "fragment"
    }
   },
   "source": [
    "#### • it’s also more obvious that __`after_call()`__ will only execute if no exceptions are raised in the try block"
   ]
  },
  {
   "cell_type": "markdown",
   "metadata": {
    "slideshow": {
     "slide_type": "subslide"
    }
   },
   "source": [
    "## __The `finally` Block__\n",
    "* code in the finally block will be executed whether or not an exception is thrown"
   ]
  },
  {
   "cell_type": "code",
   "execution_count": null,
   "metadata": {
    "slideshow": {
     "slide_type": "fragment"
    }
   },
   "outputs": [],
   "source": [
    "def func():\n",
    "    try:\n",
    "        i = int(input('\\nEnter a number: '))\n",
    "        x = 1 / i\n",
    "    except ValueError:\n",
    "        print('Not a number!')\n",
    "    except ZeroDivisionError:\n",
    "        print('Cannot divide by 0')\n",
    "        print('returning from function')\n",
    "        return\n",
    "    else: # 3 and 4 succeed\n",
    "        print('Everything OK')\n",
    "    finally:\n",
    "        print('FINALLY: DO this either way!')\n",
    "\n",
    "func(), func(), func()"
   ]
  },
  {
   "cell_type": "markdown",
   "metadata": {
    "slideshow": {
     "slide_type": "slide"
    }
   },
   "source": [
    "# Any other topics in Python you have questions about? "
   ]
  },
  {
   "cell_type": "markdown",
   "metadata": {
    "slideshow": {
     "slide_type": "subslide"
    }
   },
   "source": [
    "# “The most likely way for the world to be destroyed, most experts agree, is by accident. That's where we come in; we're computer professionals. We cause accidents.”\n",
    "# –Nathaniel S. Borenstein"
   ]
  }
 ],
 "metadata": {
  "celltoolbar": "Slideshow",
  "kernelspec": {
   "display_name": "Python 3",
   "language": "python",
   "name": "python3"
  },
  "language_info": {
   "codemirror_mode": {
    "name": "ipython",
    "version": 3
   },
   "file_extension": ".py",
   "mimetype": "text/x-python",
   "name": "python",
   "nbconvert_exporter": "python",
   "pygments_lexer": "ipython3",
   "version": "3.7.6"
  }
 },
 "nbformat": 4,
 "nbformat_minor": 1
}
